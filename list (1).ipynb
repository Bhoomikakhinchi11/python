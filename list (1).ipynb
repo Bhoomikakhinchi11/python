{
 "cells": [
  {
   "cell_type": "code",
   "execution_count": 3,
   "id": "17995800-73fd-46fb-b321-7c2a78c6f115",
   "metadata": {},
   "outputs": [
    {
     "name": "stdout",
     "output_type": "stream",
     "text": [
      "0 1\n",
      "0 2\n",
      "0 4\n",
      "0 7\n",
      "0 14\n",
      "0 28\n",
      "====\n",
      "1 2\n",
      "1 4\n",
      "1 7\n",
      "1 14\n",
      "1 28\n",
      "====\n",
      "2 4\n",
      "2 7\n",
      "2 14\n",
      "2 28\n",
      "====\n",
      "4 7\n",
      "4 14\n",
      "4 28\n",
      "====\n",
      "7 14\n",
      "7 28\n",
      "====\n",
      "14 28\n",
      "====\n",
      "====\n"
     ]
    }
   ],
   "source": [
    "mylist=[0,1,2,4,7,14,28]\n",
    "for index in range(0,len(mylist)):\n",
    "    for j in range(index+1,len(mylist)):\n",
    "        print(mylist[index],mylist[j])\n",
    "    print(\"====\")"
   ]
  },
  {
   "cell_type": "code",
   "execution_count": 5,
   "id": "947fca58-296b-47a8-8dfd-705014e54562",
   "metadata": {},
   "outputs": [
    {
     "name": "stdout",
     "output_type": "stream",
     "text": [
      "2 7\n"
     ]
    }
   ],
   "source": [
    "mylist=[-2,-1,0,1,2,4,7,14,18]\n",
    "target=9\n",
    "start=0\n",
    "stop=len(mylist)-1\n",
    "while(start<stop ):\n",
    "    if(mylist[start]+mylist[stop]==target):\n",
    "        print(mylist[start],mylist[stop])\n",
    "        break\n",
    "    elif(mylist[start]+mylist[stop]>target):\n",
    "        stop=stop-1\n",
    "    else:\n",
    "        start=start+1"
   ]
  },
  {
   "cell_type": "code",
   "execution_count": 7,
   "id": "5eac214a-0477-4b22-8081-d04f0e834c8d",
   "metadata": {},
   "outputs": [
    {
     "name": "stdout",
     "output_type": "stream",
     "text": [
      "invalid\n"
     ]
    }
   ],
   "source": [
    "openB=[] ## VALID PARENTHESIS\n",
    "x=0\n",
    "data=\"(()\"\n",
    "for char in data:\n",
    "    if char==\"(\":\n",
    "        openB.append(char)\n",
    "    elif(openB):\n",
    "        if(char==\")\" and \"(\"==openB.pop()):\n",
    "            x=1\n",
    "            x=1\n",
    "        else:\n",
    "            x=0\n",
    "if(x==0 or len(openB)>0):\n",
    "    print(\"invalid\")\n",
    "else:\n",
    "    print(\"valid parenthesis\")"
   ]
  },
  {
   "cell_type": "code",
   "execution_count": 1,
   "id": "c4d6107e-9342-4b2a-84d0-8f1765c256dc",
   "metadata": {},
   "outputs": [
    {
     "name": "stdin",
     "output_type": "stream",
     "text": [
      "enter the parenthesis [][\n"
     ]
    },
    {
     "name": "stdout",
     "output_type": "stream",
     "text": [
      "invalid parenthesis\n"
     ]
    }
   ],
   "source": [
    "string=input(\"enter the parenthesis\")\n",
    "mylist=[]\n",
    "x=0\n",
    "for char in string:\n",
    "    if char in \"({[\":\n",
    "        mylist.append(char)\n",
    "    elif(mylist):\n",
    "        if(char==\")\" and \"(\" !=mylist.pop()):\n",
    "            x=1\n",
    "            break\n",
    "        elif(char==\"}\" and \"{\" !=mylist.pop()):\n",
    "            x=1\n",
    "            braek\n",
    "        elif(char==\"]\" and \"[\" !=mylist.pop()):\n",
    "            x=1\n",
    "            break\n",
    "    else:\n",
    "        x=1\n",
    "if x==1 or len (mylist)>0:\n",
    "    print(\"invalid parenthesis\")\n",
    "else:\n",
    "    print(\"valid parenthesis\")\n",
    "    "
   ]
  },
  {
   "cell_type": "code",
   "execution_count": 7,
   "id": "fc3d597a-ec41-42e4-a347-b5c30a020347",
   "metadata": {},
   "outputs": [
    {
     "name": "stdout",
     "output_type": "stream",
     "text": [
      "----1 \n",
      "---1 1 \n",
      "--1 * 1 \n",
      "-1 * * 1 \n"
     ]
    }
   ],
   "source": [
    "num=5\n",
    "for i in range(1,num):\n",
    "    for j in range(i,num):\n",
    "        print(\"-\",end=\"\")\n",
    "    for k in range(1,i+1):\n",
    "        if(k==1 or k==i):\n",
    "            print(1,end=\" \")\n",
    "        else:\n",
    "            print(\"*\",end=\" \")\n",
    "    print(\"\")"
   ]
  },
  {
   "cell_type": "code",
   "execution_count": 24,
   "id": "a732af8a-6803-4840-8e3a-74b4bf17364f",
   "metadata": {},
   "outputs": [
    {
     "name": "stdout",
     "output_type": "stream",
     "text": [
      "-----1 \n",
      "[[1]]\n",
      "----1 1 \n",
      "[[1], [1, 1]]\n",
      "---1 * 1 \n",
      "[[1], [1, 1], [1, 2, 1]]\n",
      "--1 * * 1 \n",
      "[[1], [1, 1], [1, 2, 1], [1, 3, 3, 1]]\n",
      "-1 * * * 1 \n",
      "[[1], [1, 1], [1, 2, 1], [1, 3, 3, 1], [1, 4, 6, 4, 1]]\n",
      "1 * * * * 1 \n",
      "[[1], [1, 1], [1, 2, 1], [1, 3, 3, 1], [1, 4, 6, 4, 1], [1, 5, 10, 10, 5, 1]]\n"
     ]
    }
   ],
   "source": [
    "num=5\n",
    "mylist=[]\n",
    "for i in range(0,num+1):\n",
    "    temp=[]\n",
    "    for j in range(i,num):\n",
    "        print(\"-\",end=\"\")\n",
    "    for k in range(0,i+1):\n",
    "        if(k==0 or k==i):\n",
    "            temp.append(1)\n",
    "            print(1,end=\" \")\n",
    "        else:\n",
    "            data=mylist[i-1][k] + mylist[i-1][k-1]\n",
    "            temp.append(data)\n",
    "            print(\"*\",end=\" \")\n",
    "#appending temprorary list to mylist\n",
    "    mylist.append(temp)\n",
    "    print(\"\")\n",
    "    print(mylist)\n"
   ]
  },
  {
   "cell_type": "code",
   "execution_count": 15,
   "id": "8f15c51e-3fc2-4f3f-a6d3-b5cfdfa1969c",
   "metadata": {},
   "outputs": [
    {
     "name": "stdout",
     "output_type": "stream",
     "text": [
      "keys: dict_keys([100, 101])\n",
      "values: dict_values(['bhoomika', 'divyanshu'])\n",
      "keys and values: dict_items([(100, 'bhoomika'), (101, 'divyanshu')])\n"
     ]
    }
   ],
   "source": [
    "userdetail={100:\"bhoomika\",101:\"divyanshu\"}\n",
    "print(\"keys:\",userdetail.keys())\n",
    "print(\"values:\",userdetail.values())\n",
    "print(\"keys and values:\",userdetail.items())"
   ]
  },
  {
   "cell_type": "code",
   "execution_count": 39,
   "id": "e9352b5d-07dd-49da-b532-32270b4aa066",
   "metadata": {},
   "outputs": [
    {
     "name": "stdout",
     "output_type": "stream",
     "text": [
      "{10: 1, 12: 1, 14: 1}\n"
     ]
    }
   ],
   "source": [
    "dict={}\n",
    "for i in range(10,16): # EVEN \n",
    "    if(i%2==0):\n",
    "     dict[i]=1\n",
    "print(dict)"
   ]
  },
  {
   "cell_type": "code",
   "execution_count": 43,
   "id": "3468d809-c983-4476-9151-ad8a187d08e6",
   "metadata": {},
   "outputs": [
    {
     "name": "stdout",
     "output_type": "stream",
     "text": [
      "{'e': 1, 'u': 1, 'a': 1}\n"
     ]
    }
   ],
   "source": [
    "dict={}\n",
    "a=\"hey ura\"\n",
    "for i in a:\n",
    "    if(i=='a' or i=='e' or i=='u'):\n",
    "        dict[i]=1\n",
    "print(dict)"
   ]
  },
  {
   "cell_type": "code",
   "execution_count": 47,
   "id": "81194fc6-2aaa-4fcf-9d10-4665d54d0b9b",
   "metadata": {},
   "outputs": [
    {
     "name": "stdout",
     "output_type": "stream",
     "text": [
      "{'e': 1, 'u': 1, 'a': 1}\n"
     ]
    }
   ],
   "source": [
    "dict={}\n",
    "for i in \"hey ura\":\n",
    "    if i in\"aeiou\":\n",
    "        dict[i]=1\n",
    "print(dict)"
   ]
  },
  {
   "cell_type": "code",
   "execution_count": 51,
   "id": "1ed12b12-7dcc-46a2-b805-f96976e44327",
   "metadata": {},
   "outputs": [
    {
     "name": "stdout",
     "output_type": "stream",
     "text": [
      "{'salary': 110}\n"
     ]
    }
   ],
   "source": [
    "x={\"salary\":100} #x[\"salary\"]=x[\"salary\"]+10\n",
    "if(\"salary\" in x):\n",
    "    x[\"salary\"]=x[\"salary\"]+10 #UPDATE\n",
    "else:\n",
    "    x[\"salary\"]=10 #INSERT\n",
    "print(x)"
   ]
  },
  {
   "cell_type": "code",
   "execution_count": 61,
   "id": "e4ce10e9-502e-488d-8864-36438f55d11c",
   "metadata": {},
   "outputs": [
    {
     "name": "stdout",
     "output_type": "stream",
     "text": [
      "{'h': 1, 'e': 2, 'y': 1, ' ': 1, 'u': 1, 'r': 1, 'a': 1}\n"
     ]
    }
   ],
   "source": [
    "dict={}\n",
    "for i in \"heye ura\":\n",
    "    if i in dict:\n",
    "        dict[i]=dict[i]+1\n",
    "    else:\n",
    "        dict[i]=1\n",
    "print(dict)"
   ]
  },
  {
   "cell_type": "code",
   "execution_count": 8,
   "id": "07b0f92d-e231-4968-a8cd-8256fad7e43f",
   "metadata": {},
   "outputs": [
    {
     "name": "stdout",
     "output_type": "stream",
     "text": [
      "1\n",
      "3\n",
      "6\n",
      "10\n",
      "15\n",
      "21\n",
      "28\n",
      "36\n",
      "45\n",
      "55\n",
      "66\n",
      "78\n",
      "91\n",
      "105\n",
      "120\n",
      "136\n",
      "153\n",
      "171\n",
      "190\n",
      "210\n",
      "231\n",
      "253\n",
      "276\n",
      "300\n",
      "325\n",
      "351\n",
      "378\n",
      "406\n",
      "435\n",
      "465\n",
      "496\n",
      "528\n",
      "561\n",
      "595\n",
      "630\n",
      "666\n",
      "703\n",
      "741\n",
      "780\n",
      "820\n",
      "861\n",
      "903\n",
      "946\n",
      "990\n",
      "1035\n",
      "1081\n",
      "1128\n",
      "1176\n",
      "1225\n",
      "1275\n",
      "1326\n",
      "1378\n",
      "1431\n",
      "1485\n",
      "1540\n",
      "1596\n",
      "1653\n",
      "1711\n",
      "1770\n",
      "1830\n",
      "1891\n",
      "1953\n",
      "2016\n",
      "2080\n",
      "2145\n",
      "2211\n",
      "2278\n",
      "2346\n",
      "2415\n",
      "2485\n",
      "2556\n",
      "2628\n",
      "2701\n",
      "2775\n",
      "2850\n",
      "2926\n",
      "3003\n",
      "3081\n",
      "3160\n",
      "3240\n",
      "3321\n",
      "3403\n",
      "3486\n",
      "3570\n",
      "3655\n",
      "3741\n",
      "3828\n",
      "3916\n",
      "4005\n",
      "4095\n",
      "4186\n",
      "4278\n",
      "4371\n",
      "4465\n",
      "4560\n",
      "4656\n",
      "4753\n",
      "4851\n",
      "4950\n",
      "5050\n"
     ]
    }
   ],
   "source": [
    "sum=0\n",
    "for i in range(1,101):\n",
    "    sum=sum+i\n",
    "    print(sum)"
   ]
  },
  {
   "cell_type": "code",
   "execution_count": 14,
   "id": "40d65677-f02f-44b0-892b-9698fd0eaf49",
   "metadata": {},
   "outputs": [
    {
     "name": "stdout",
     "output_type": "stream",
     "text": [
      "1\n",
      "2\n",
      "5\n",
      "10\n"
     ]
    }
   ],
   "source": [
    "num=10\n",
    "for i in range(1,11):\n",
    "    if(num%i==0):\n",
    "        print(i)"
   ]
  },
  {
   "cell_type": "code",
   "execution_count": 1,
   "id": "f10cd3dd-00f7-4fe9-9199-45e70268f12f",
   "metadata": {},
   "outputs": [
    {
     "name": "stdin",
     "output_type": "stream",
     "text": [
      "enter the number: 5\n"
     ]
    },
    {
     "name": "stdout",
     "output_type": "stream",
     "text": [
      "factorial of 5 is 120\n"
     ]
    }
   ],
   "source": [
    "num=int(input(\"enter the number:\"))\n",
    "fact=1\n",
    "i=1\n",
    "while(i<=num):\n",
    "    fact=fact*i\n",
    "    i=i+1\n",
    "print(f\"factorial of {num} is {fact}\")"
   ]
  },
  {
   "cell_type": "code",
   "execution_count": 36,
   "id": "d7c0208f-c8ab-4202-869f-a756ff903842",
   "metadata": {},
   "outputs": [
    {
     "name": "stdout",
     "output_type": "stream",
     "text": [
      "max value is 20\n"
     ]
    }
   ],
   "source": [
    "mylist=[10,20,8,2]##MAXIMUM\n",
    "max_value=0\n",
    "for i in range(0,len(mylist)):\n",
    " if(mylist[i]>max_value):\n",
    "     max_value=mylist[i]\n",
    "print(\"max value is\",max_value)"
   ]
  },
  {
   "cell_type": "code",
   "execution_count": 38,
   "id": "cd5438e3-6a63-423b-bfc6-ba6188bed728",
   "metadata": {},
   "outputs": [
    {
     "name": "stdout",
     "output_type": "stream",
     "text": [
      "min value is 10\n"
     ]
    }
   ],
   "source": [
    "mylist=[10,20,8,2] ##MINIMUM\n",
    "min_value=mylist[0]\n",
    "for i in range(0,len(mylist)):\n",
    " if(mylist[i]<min_value):\n",
    "     max_value=mylist[i]\n",
    "print(\"min value is\",min_value)"
   ]
  },
  {
   "cell_type": "code",
   "execution_count": 42,
   "id": "ea500ea0-d4fb-438a-b749-e04d6483b6b6",
   "metadata": {},
   "outputs": [
    {
     "name": "stdout",
     "output_type": "stream",
     "text": [
      "10 20\n",
      "10 8\n",
      "10 2\n"
     ]
    }
   ],
   "source": [
    "mylist=[10,20,8,2]\n",
    "for i in range(0,1):\n",
    "    for j in range(1,len(mylist)):\n",
    "        print(mylist[i],mylist[j])"
   ]
  },
  {
   "cell_type": "code",
   "execution_count": 52,
   "id": "a82a87c6-fcbb-4258-a392-3204b189907c",
   "metadata": {},
   "outputs": [
    {
     "name": "stdout",
     "output_type": "stream",
     "text": [
      "after 8 10 [8, 20, 10, 2]\n",
      "after 2 8 [2, 20, 10, 8]\n"
     ]
    }
   ],
   "source": [
    "mylist=[10,20,8,2]\n",
    "for i in range(0,1):\n",
    "    for j in range(i+1,len(mylist)):\n",
    "        if(mylist[i]>mylist[j]):\n",
    "            temp=mylist[i]\n",
    "            mylist[i]=mylist[j]\n",
    "            mylist[j]=temp\n",
    "            print(\"after\",mylist[i],mylist[j],mylist)\n",
    "            \n",
    "    "
   ]
  },
  {
   "cell_type": "code",
   "execution_count": 10,
   "id": "751d0703-539c-4772-a8d0-b9b59d9fe3ea",
   "metadata": {},
   "outputs": [
    {
     "name": "stdout",
     "output_type": "stream",
     "text": [
      "[10, 20, 8, 2]\n",
      "[8, 20, 10, 2]\n",
      "[2, 20, 10, 8]\n"
     ]
    }
   ],
   "source": [
    "mylist=[10,20,8,2]\n",
    "for i in range(0,1):\n",
    "    for j in range(i+1,len(mylist)):\n",
    "        if(mylist[i]>mylist[j]):\n",
    "            temp=mylist[i]\n",
    "            mylist[i]=mylist[j]\n",
    "            mylist[j]=temp\n",
    "        print(mylist)"
   ]
  },
  {
   "cell_type": "code",
   "execution_count": 9,
   "id": "ec7e89d4-c4bf-4e07-b1d7-57d71ad80606",
   "metadata": {},
   "outputs": [
    {
     "name": "stdout",
     "output_type": "stream",
     "text": [
      "after 10 0 10\n",
      "after 10 9 9\n",
      "after 10 9 8\n",
      "after 10 9 7\n",
      "after 10 9 6\n"
     ]
    }
   ],
   "source": [
    "mylist=[10,9,8,7,6]\n",
    "max1=mylist[0]\n",
    "smax=0\n",
    "for i in range(0,len(mylist)):\n",
    "    if(mylist[i]>max1):\n",
    "        smax=max1\n",
    "        max1=mylist[i]\n",
    "    elif(mylist[i]>smax and mylist[i]!=max1):\n",
    "        smax=mylist[i]\n",
    "    print(\"after\",max1,smax,mylist[i])\n",
    "\n",
    "        "
   ]
  },
  {
   "cell_type": "code",
   "execution_count": 7,
   "id": "556b819a-d7bc-4bb7-9169-3618cd2f1870",
   "metadata": {},
   "outputs": [
    {
     "data": {
      "text/plain": [
       "{10: 1, 40: 1, 20: 1, 30: 1}"
      ]
     },
     "execution_count": 7,
     "metadata": {},
     "output_type": "execute_result"
    }
   ],
   "source": [
    "list1=[10,40,20,30]\n",
    "dict1={}\n",
    "for i in list1:\n",
    "  if i not in dict1:\n",
    "    dict1[i]=1\n",
    "  else:\n",
    "    dict1[i]+=1\n",
    "dict1"
   ]
  },
  {
   "cell_type": "code",
   "execution_count": 29,
   "id": "8d9a583e-aadf-48ce-af2d-5b4d730e70fa",
   "metadata": {},
   "outputs": [
    {
     "name": "stdout",
     "output_type": "stream",
     "text": [
      "{10: 9, 40: 39, 20: 19, 30: 29}\n"
     ]
    }
   ],
   "source": [
    "list1=[10,40,20,30]\n",
    "dict1={}\n",
    "for i in list1:\n",
    "  if i in dict1:\n",
    "      dict1[i]=dict1[i]+1\n",
    "  else:\n",
    "      dict1[i]=i-1\n",
    "print(dict1)"
   ]
  },
  {
   "cell_type": "code",
   "execution_count": 39,
   "id": "51bc3fe7-99ea-44de-8d05-ed326653168a",
   "metadata": {},
   "outputs": [
    {
     "name": "stdout",
     "output_type": "stream",
     "text": [
      "{10: 2, 40: 2, 20: 2, 30: 2}\n"
     ]
    }
   ],
   "source": [
    "list1=[10,40,20,30]\n",
    "dict1={}\n",
    "for i in list1:\n",
    "  if i in dict1:\n",
    "      dict1[list1 [i]]=\n",
    "  else:\n",
    "      dict1[i]=1\n",
    "print(dict1)"
   ]
  },
  {
   "cell_type": "code",
   "execution_count": 41,
   "id": "487ccb52-7557-4e34-960d-5a3452f83431",
   "metadata": {},
   "outputs": [
    {
     "name": "stdout",
     "output_type": "stream",
     "text": [
      "8\n"
     ]
    }
   ],
   "source": [
    "a=3\n",
    "b=8\n",
    "if(a>b):\n",
    "    num=a\n",
    "else:\n",
    "    num=b\n",
    "print(num)"
   ]
  },
  {
   "cell_type": "code",
   "execution_count": 1,
   "id": "14abd4f1-d2a9-4a7f-9087-045ad7893f0a",
   "metadata": {},
   "outputs": [
    {
     "name": "stdout",
     "output_type": "stream",
     "text": [
      "lcm is 24\n"
     ]
    }
   ],
   "source": [
    "a=3\n",
    "b=8\n",
    "if(a>b):\n",
    "    num=a\n",
    "else:\n",
    "    num=b\n",
    "while(True):\n",
    "    if(num%a==0 and num%b==0):\n",
    "        print(\"lcm is\",num)\n",
    "        break\n",
    "    else:\n",
    "        num=num+1"
   ]
  },
  {
   "cell_type": "code",
   "execution_count": 17,
   "id": "c70c536c-1c39-4d33-95d1-6f030bd9a1d5",
   "metadata": {},
   "outputs": [
    {
     "name": "stdout",
     "output_type": "stream",
     "text": [
      "67\n",
      "66\n",
      "65\n",
      "198\n"
     ]
    }
   ],
   "source": [
    "sum=0  ##ADDITION\n",
    "dict1={\"a\":65,\"b\":66,\"c\":67}\n",
    "for i in \"cba\":\n",
    "    if i in dict1:\n",
    "        print(dict1[i])\n",
    "        sum+=dict1[i]\n",
    "print(sum)"
   ]
  },
  {
   "cell_type": "code",
   "execution_count": 19,
   "id": "a3e3ce53-2e5e-4429-ac8e-48b1c985a2ce",
   "metadata": {},
   "outputs": [
    {
     "name": "stdout",
     "output_type": "stream",
     "text": [
      "67\n",
      "66\n",
      "65\n",
      "198\n"
     ]
    }
   ],
   "source": [
    "sum=0 \n",
    "dict1={\"a\":65,\"b\":66,\"c\":67}\n",
    "for i in \"cba\":\n",
    "    if i in dict1:\n",
    "        print(dict1[i])\n",
    "        sum+=dict1[i]\n",
    "print(sum)"
   ]
  },
  {
   "cell_type": "code",
   "execution_count": 1,
   "id": "11be3848-1ac5-494a-9af6-f58229f96f24",
   "metadata": {},
   "outputs": [
    {
     "name": "stdout",
     "output_type": "stream",
     "text": [
      "1 = I\n",
      "2 = II\n",
      "3 = III\n",
      "4 = IV\n",
      "5 = V\n",
      "6 = VI\n",
      "7 = VII\n",
      "8 = VIII\n",
      "9 = IX\n",
      "10 = X\n"
     ]
    }
   ],
   "source": [
    "dict={1:\"I\",2:\"II\",3:\"III\",4:\"IV\",5:\"V\",6:\"VI\",7:\"VII\",8:\"VIII\",9:\"IX\",10:\"X\"}\n",
    "for i in dict:\n",
    "    print(i,\"=\",dict[i])"
   ]
  },
  {
   "cell_type": "code",
   "execution_count": 1,
   "id": "966cdeeb-a7d0-452c-987c-a79292e3fae8",
   "metadata": {},
   "outputs": [
    {
     "name": "stdin",
     "output_type": "stream",
     "text": [
      "enter the num to convert into rommon : 5\n"
     ]
    },
    {
     "name": "stdout",
     "output_type": "stream",
     "text": [
      "V\n"
     ]
    }
   ],
   "source": [
    "num1=int(input(\"enter the num to convert into rommon :\"))\n",
    "dict1={1000:\"M\",900:\"CM\",500:\"D\",400:\"CD\",100:\"C\",90:\"XC\",50:\"L\",40:\"XL\",10:\"X\",9:\"IX\",5:\"V\",4:\"IV\",1:\"I\"}\n",
    "roman_num=\"\"\n",
    "for i in dict1:\n",
    "    while(num1>=i):\n",
    "        roman_num+=dict1[i]\n",
    "        num1-=i\n",
    "print(roman_num)"
   ]
  },
  {
   "cell_type": "code",
   "execution_count": 18,
   "id": "308d8904-e874-4586-9c67-ac1cc9e2029a",
   "metadata": {},
   "outputs": [
    {
     "name": "stdout",
     "output_type": "stream",
     "text": [
      "0 a\n",
      "{'ab': 1, 'ac': 1}\n"
     ]
    }
   ],
   "source": [
    "data=\"abc\"\n",
    "mydict={}\n",
    "for i in range(0,1):\n",
    "    print(i,data[i])\n",
    "    for j in range(i+1,len(data)):\n",
    "        if(data[i]+data[j] not in mydict):\n",
    "            mydict[data[i]+data[j]] =1\n",
    "print(mydict)"
   ]
  },
  {
   "cell_type": "code",
   "execution_count": 28,
   "id": "8b3e543e-41c2-4d7d-bce0-d0c82a844895",
   "metadata": {},
   "outputs": [
    {
     "name": "stdout",
     "output_type": "stream",
     "text": [
      "{'a': 2, 'b': 1, 'c': 1, 'abca': 1}\n"
     ]
    }
   ],
   "source": [
    "data=\"abca\"\n",
    "mydict={}\n",
    "for i in range(0,len(data)):\n",
    "    if(data[i] not in mydict):\n",
    "        mydict[data[i]]=1\n",
    "    else:\n",
    "        mydict[data[i]]+=1\n",
    "        for j in range(i+1,len(data)):\n",
    "            if(data[i]+data[j] not in mydict):\n",
    "                mydict[data[i]+data[j]] =1\n",
    "            else:\n",
    "                mydict[data[i]+data[j]] +=1\n",
    "if data not in mydict:\n",
    "    mydict[data]=1\n",
    "print(mydict)"
   ]
  },
  {
   "cell_type": "code",
   "execution_count": 36,
   "id": "d5a3d1b3-aaf3-4125-8612-f0fffef2c3c3",
   "metadata": {},
   "outputs": [
    {
     "name": "stdout",
     "output_type": "stream",
     "text": [
      "VI\n"
     ]
    }
   ],
   "source": [
    "##ROMAN NUMBERS\n",
    "num=6\n",
    "data=\"\"\n",
    "mydictionary={10:\"x\",9:\"IX\",5:\"V\",1:\"I\"}\n",
    "for i in mydictionary.items():\n",
    "    key=i[0]\n",
    "    value=i[1]\n",
    "    while(num>=key):\n",
    "        data=data+value\n",
    "        num-=key\n",
    "print(data)"
   ]
  },
  {
   "cell_type": "code",
   "execution_count": null,
   "id": "aca0c9c7-c32f-4281-80f3-d0f05961423f",
   "metadata": {},
   "outputs": [],
   "source": []
  }
 ],
 "metadata": {
  "kernelspec": {
   "display_name": "Python 3 (ipykernel)",
   "language": "python",
   "name": "python3"
  },
  "language_info": {
   "codemirror_mode": {
    "name": "ipython",
    "version": 3
   },
   "file_extension": ".py",
   "mimetype": "text/x-python",
   "name": "python",
   "nbconvert_exporter": "python",
   "pygments_lexer": "ipython3",
   "version": "3.12.7"
  }
 },
 "nbformat": 4,
 "nbformat_minor": 5
}
