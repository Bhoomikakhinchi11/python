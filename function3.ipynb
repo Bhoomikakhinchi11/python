{
 "cells": [
  {
   "cell_type": "code",
   "execution_count": 1,
   "id": "afe77adc-64ef-4a26-a425-017d7710279a",
   "metadata": {},
   "outputs": [
    {
     "data": {
      "text/plain": [
       "<function __main__.<lambda>(x)>"
      ]
     },
     "execution_count": 1,
     "metadata": {},
     "output_type": "execute_result"
    }
   ],
   "source": [
    "#LAMBDA FUNCTION=>one line functions,inline function,annymous function"
   ]
  },
  {
   "cell_type": "code",
   "execution_count": 5,
   "id": "fab6b96c-eca1-4b09-87ef-32266dbf6a91",
   "metadata": {},
   "outputs": [
    {
     "data": {
      "text/plain": [
       "'hey'"
      ]
     },
     "execution_count": 5,
     "metadata": {},
     "output_type": "execute_result"
    }
   ],
   "source": [
    "out=lambda x:\"hey\"\n",
    "out(5)"
   ]
  },
  {
   "cell_type": "code",
   "execution_count": 7,
   "id": "1a638fa3-56d8-40c4-886e-296442f5e20e",
   "metadata": {},
   "outputs": [
    {
     "data": {
      "text/plain": [
       "'hey'"
      ]
     },
     "execution_count": 7,
     "metadata": {},
     "output_type": "execute_result"
    }
   ],
   "source": [
    "def fun(x):\n",
    "    return \"hey\"\n",
    "out=fun\n",
    "out(10)"
   ]
  },
  {
   "cell_type": "code",
   "execution_count": 23,
   "id": "bfacf35d-d107-41a7-9c54-1e22ccb3911f",
   "metadata": {},
   "outputs": [],
   "source": [
    "def number_square(x):\n",
    "    return x**2"
   ]
  },
  {
   "cell_type": "code",
   "execution_count": 19,
   "id": "65a8d50f-29e8-4e52-8b69-851410d46c40",
   "metadata": {},
   "outputs": [
    {
     "data": {
      "text/plain": [
       "25"
      ]
     },
     "execution_count": 19,
     "metadata": {},
     "output_type": "execute_result"
    }
   ],
   "source": [
    "# MAP(function,iterable)\n",
    "y=map(number_square,[5,7,8])\n",
    "\n",
    "next(y)\n"
   ]
  },
  {
   "cell_type": "code",
   "execution_count": 13,
   "id": "8013c8b4-eaa4-4ab0-844e-9000cbff78f7",
   "metadata": {},
   "outputs": [
    {
     "data": {
      "text/plain": [
       "25"
      ]
     },
     "execution_count": 13,
     "metadata": {},
     "output_type": "execute_result"
    }
   ],
   "source": [
    "y=map( lambda x:x**2,[5,7,8])\n",
    "next(y)   #LAMBDA PARAMETER:EXPRESSION"
   ]
  },
  {
   "cell_type": "code",
   "execution_count": 27,
   "id": "05ffab2c-2316-46b1-babe-68191aec09ec",
   "metadata": {},
   "outputs": [
    {
     "data": {
      "text/plain": [
       "[25, 49, 64]"
      ]
     },
     "execution_count": 27,
     "metadata": {},
     "output_type": "execute_result"
    }
   ],
   "source": [
    "list(map(lambda x:x**2,[5,7,8])) #list"
   ]
  },
  {
   "cell_type": "code",
   "execution_count": 37,
   "id": "4ddec69a-da8c-4ceb-964a-197ec0860015",
   "metadata": {},
   "outputs": [
    {
     "data": {
      "text/plain": [
       "([25], [49], [64])"
      ]
     },
     "execution_count": 37,
     "metadata": {},
     "output_type": "execute_result"
    }
   ],
   "source": [
    "tuple(map(lambda x:[x**2],[5,7,8])) #tuple"
   ]
  },
  {
   "cell_type": "code",
   "execution_count": 41,
   "id": "fb35f9bf-54dd-4ff6-803a-cf78b6ca581b",
   "metadata": {},
   "outputs": [
    {
     "data": {
      "text/plain": [
       "[False, False, True]"
      ]
     },
     "execution_count": 41,
     "metadata": {},
     "output_type": "execute_result"
    }
   ],
   "source": [
    "list(map(lambda x:x%2==0,[5,7,8]))"
   ]
  },
  {
   "cell_type": "code",
   "execution_count": 43,
   "id": "fb19e20f-1af9-48c2-8974-c2c268d8a5ae",
   "metadata": {},
   "outputs": [
    {
     "data": {
      "text/plain": [
       "[8]"
      ]
     },
     "execution_count": 43,
     "metadata": {},
     "output_type": "execute_result"
    }
   ],
   "source": [
    "list(filter(lambda x:x%2==0,[5,7,8])) ##FILTER"
   ]
  },
  {
   "cell_type": "code",
   "execution_count": 47,
   "id": "e359ba50-055d-4938-8a47-0eeda26552ff",
   "metadata": {},
   "outputs": [
    {
     "data": {
      "text/plain": [
       "[(5, 1), (7, 1), (8, 1)]"
      ]
     },
     "execution_count": 47,
     "metadata": {},
     "output_type": "execute_result"
    }
   ],
   "source": [
    "list(map(lambda x:(x,1),[5,7,8])) #LIST OF TUPLES"
   ]
  },
  {
   "cell_type": "code",
   "execution_count": 49,
   "id": "0b073e12-f4d7-41c9-be9c-ecd3de775716",
   "metadata": {},
   "outputs": [
    {
     "data": {
      "text/plain": [
       "{5: 1, 7: 1, 8: 1}"
      ]
     },
     "execution_count": 49,
     "metadata": {},
     "output_type": "execute_result"
    }
   ],
   "source": [
    "x=list(map(lambda x:(x,1),[5,7,8])) ##DICTIONARY\n",
    "dict(x)"
   ]
  },
  {
   "cell_type": "code",
   "execution_count": null,
   "id": "c500bbf5-5e53-447f-bb19-869b59d10002",
   "metadata": {},
   "outputs": [],
   "source": [
    "##FILE HANDLING"
   ]
  },
  {
   "cell_type": "code",
   "execution_count": 44,
   "id": "bd69acd5-82e2-48bb-895a-f50965628ae4",
   "metadata": {},
   "outputs": [
    {
     "name": "stdout",
     "output_type": "stream",
     "text": [
      "['ram', 'rakesh']\n"
     ]
    }
   ],
   "source": [
    "x=[\"ram\",\"rohan\",\"rakesh\"]\n",
    "y=list(filter(lambda name:name in[\"ram\",\"rakesh\",\"divyanshu\"],x))\n",
    "print(y)"
   ]
  },
  {
   "cell_type": "code",
   "execution_count": 52,
   "id": "7fa101b0-04e2-4a91-a3b3-bb35db797b63",
   "metadata": {},
   "outputs": [
    {
     "name": "stdout",
     "output_type": "stream",
     "text": [
      "[True, True, False]\n"
     ]
    }
   ],
   "source": [
    "x=[\"ram\",\"rohan\",\"rakesh\"]\n",
    "y=list(map(lambda name:name in[\"ram\",\"rohan\",\"divyanshu\"],x))\n",
    "print(y)"
   ]
  },
  {
   "cell_type": "code",
   "execution_count": 7,
   "id": "cba3ac34-5192-4c90-b447-85fcaf9b9411",
   "metadata": {},
   "outputs": [
    {
     "name": "stdout",
     "output_type": "stream",
     "text": [
      "['ram', 'rakesh', 'raj', 'rahul', 'ravi', 'radha', 'rajesh', 'ranjit', 'raghav', 'rajni', 'rashmi', 'raima']\n"
     ]
    }
   ],
   "source": [
    "names = [\n",
    "    \"ram\", \"rohan\", \"rakesh\", \"raj\", \"rahul\",\n",
    "    \"riya\", \"rita\", \"ravi\", \"reena\", \"radha\",\n",
    "    \"ronit\", \"rohit\", \"rajesh\", \"ranjit\", \"raghav\",\n",
    "    \"rajni\", \"rekha\", \"rashmi\", \"ronak\", \"raima\"\n",
    "]\n",
    "\n",
    "B = list(filter(lambda name: name.startswith(\"ra\"), names))\n",
    "print(B)"
   ]
  },
  {
   "cell_type": "code",
   "execution_count": null,
   "id": "711197a1-9366-4e7a-9266-9de3ab3d2e00",
   "metadata": {},
   "outputs": [],
   "source": []
  }
 ],
 "metadata": {
  "kernelspec": {
   "display_name": "Python 3 (ipykernel)",
   "language": "python",
   "name": "python3"
  },
  "language_info": {
   "codemirror_mode": {
    "name": "ipython",
    "version": 3
   },
   "file_extension": ".py",
   "mimetype": "text/x-python",
   "name": "python",
   "nbconvert_exporter": "python",
   "pygments_lexer": "ipython3",
   "version": "3.12.7"
  }
 },
 "nbformat": 4,
 "nbformat_minor": 5
}
