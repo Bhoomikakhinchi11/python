{
 "cells": [
  {
   "cell_type": "code",
   "execution_count": 13,
   "id": "7988d97c-66b3-4941-a7ef-1a5b087f3b57",
   "metadata": {},
   "outputs": [
    {
     "name": "stdout",
     "output_type": "stream",
     "text": [
      "max value is 99\n"
     ]
    }
   ],
   "source": [
    "mylist=[10,20,4,45,99]\n",
    "value=0\n",
    "for i in range(0,len(mylist)):\n",
    " if(mylist[i]>value):\n",
    "     value=mylist[i]\n",
    "print(\"max value is\",value)"
   ]
  },
  {
   "cell_type": "code",
   "execution_count": 13,
   "id": "83ba3bf0-5df7-4d80-b7b3-34dc0683389a",
   "metadata": {},
   "outputs": [
    {
     "name": "stdout",
     "output_type": "stream",
     "text": [
      "this is test function <function outer_func at 0x0000023C9D91CB80>\n",
      "calling => x hey this is outer function\n"
     ]
    }
   ],
   "source": [
    "def outer_func():\n",
    "    return(\"hey this is outer function\")\n",
    "\n",
    "def test(x):\n",
    "    print(\"this is test function\",x)\n",
    "    print(\"calling => x\",x())\n",
    "test(outer_func)"
   ]
  },
  {
   "cell_type": "code",
   "execution_count": 27,
   "id": "cf1c0427-2541-47f2-9c73-4a64d4f5a4ff",
   "metadata": {},
   "outputs": [
    {
     "data": {
      "text/plain": [
       "'even'"
      ]
     },
     "execution_count": 27,
     "metadata": {},
     "output_type": "execute_result"
    }
   ],
   "source": [
    "def fun(num):\n",
    "    if(num%2==0):\n",
    "        return(\"even\")\n",
    "    else:\n",
    "        return(\"odd\")\n",
    "\n",
    "fun(18)"
   ]
  },
  {
   "cell_type": "code",
   "execution_count": 45,
   "id": "420b4395-4c09-4401-adb9-67801bc461b4",
   "metadata": {},
   "outputs": [
    {
     "data": {
      "text/plain": [
       "30"
      ]
     },
     "execution_count": 45,
     "metadata": {},
     "output_type": "execute_result"
    }
   ],
   "source": [
    "def lcm_check(x,y):\n",
    "    if(x>y):\n",
    "        greater=x\n",
    "    else:\n",
    "        greater=y\n",
    "    \n",
    "        if(greater%x==0 and greater%y==0):\n",
    "            return greater\n",
    "        else:\n",
    "            greater+=1\n",
    "\n",
    "\n",
    "\n",
    "\n",
    "lcm_check(2,15)"
   ]
  },
  {
   "cell_type": "code",
   "execution_count": 18,
   "id": "b29773d6-063e-4036-ae39-b3c105a5672d",
   "metadata": {
    "scrolled": true
   },
   "outputs": [
    {
     "name": "stdout",
     "output_type": "stream",
     "text": [
      "the sum of elements is: 100\n"
     ]
    }
   ],
   "source": [
    "numbers=[10,20,30,40]\n",
    "total=sum(numbers)\n",
    "print(\"the sum of elements is:\",total)"
   ]
  },
  {
   "cell_type": "code",
   "execution_count": 9,
   "id": "1274e3a2-0350-4d33-8340-fc8fdfaf1504",
   "metadata": {},
   "outputs": [
    {
     "name": "stdout",
     "output_type": "stream",
     "text": [
      "list: [1, 2, 3, 4, 5]\n"
     ]
    }
   ],
   "source": [
    "numbers=[1,2,3,4,5]\n",
    "list = []\n",
    "for num in numbers:\n",
    "    list.insert(4, num)\n",
    "print(\"list:\",list)"
   ]
  },
  {
   "cell_type": "code",
   "execution_count": 15,
   "id": "abdb546e-f676-47ff-b45f-daf223589151",
   "metadata": {},
   "outputs": [
    {
     "name": "stdout",
     "output_type": "stream",
     "text": [
      "list: [5, 4, 3, 2, 1]\n"
     ]
    }
   ],
   "source": [
    "numbers=[1,2,3,4,5]\n",
    "list = []\n",
    "for num in numbers:\n",
    "    list.insert(0, num)\n",
    "print(\"list:\",list)"
   ]
  },
  {
   "cell_type": "code",
   "execution_count": 23,
   "id": "dfc220fc-9ea9-47ab-aa73-97a084ce6018",
   "metadata": {},
   "outputs": [
    {
     "name": "stdout",
     "output_type": "stream",
     "text": [
      "ascending order: [2, 3, 4, 6, 7, 8]\n"
     ]
    }
   ],
   "source": [
    "numbers = [7,4,6,3,8,2,]\n",
    "for i in range(len(numbers)):\n",
    "    for j in range(i+1, len(numbers)):\n",
    "        if numbers[i]>numbers[j]:\n",
    "            numbers[i],numbers[j]=numbers[j], numbers[i]\n",
    "\n",
    "print(\"ascending order:\",numbers)"
   ]
  },
  {
   "cell_type": "code",
   "execution_count": 31,
   "id": "c8e3cc85-08bb-4c6c-98da-590d5b006ff2",
   "metadata": {},
   "outputs": [
    {
     "name": "stdout",
     "output_type": "stream",
     "text": [
      "ascending [2, 3, 4, 6, 7, 8]\n"
     ]
    }
   ],
   "source": [
    "numbers=[7,4,6,3,8,2]\n",
    "numbers.sort()\n",
    "print(\"ascending\",numbers)"
   ]
  },
  {
   "cell_type": "code",
   "execution_count": 1,
   "id": "cc0117d1-56e8-4915-9c2d-57d2bef3303d",
   "metadata": {},
   "outputs": [
    {
     "name": "stdout",
     "output_type": "stream",
     "text": [
      "[1, 2, 3, 4, 5]\n"
     ]
    }
   ],
   "source": [
    "numbers = [1, 2, 2, 3, 4, 4, 5]\n",
    "newlist=[]\n",
    "for i in numbers:\n",
    "    if i not in newlist:\n",
    "        newlist.append(i)\n",
    "numbers[:]=newlist\n",
    "print(numbers)"
   ]
  },
  {
   "cell_type": "code",
   "execution_count": 3,
   "id": "520bd101-c974-4466-b533-810d9bc14273",
   "metadata": {},
   "outputs": [
    {
     "name": "stdout",
     "output_type": "stream",
     "text": [
      "Sum excluding the largest and smallest element: 9\n"
     ]
    }
   ],
   "source": [
    "numbers = [1, 2, 3, 4, 5] ## LARGEST AND SMALLEST ELEMENT EXCLUDE\n",
    "smallest = numbers[0]\n",
    "largest = numbers[0]\n",
    "for num in numbers:\n",
    "    if (num < smallest):\n",
    "        smallest = num\n",
    "    if (num > largest):\n",
    "        largest = num\n",
    "total = 0\n",
    "for num in numbers:\n",
    "    total += num\n",
    "\n",
    "result = total - smallest - largest\n",
    "print(\"Sum excluding the largest and smallest element:\", result)\n",
    "\n",
    "###num = 1\n",
    "#1 < 1 No → smallest stays 1\n",
    "#1 > 1 No → largest stays 1\n",
    "#num = 2\n",
    "#2 < 1 No\n",
    "#2 > 1 largest = 2\n",
    "#num = 3\n",
    "#3 < 1 No\n",
    "#3 > 2 largest = 3\n",
    "#num = 4\n",
    "#4 < 1 No\n",
    "#4 > 3 largest = 4\n",
    "#num = 5\n",
    "#5 < 1 No\n",
    "#5 > 4 largest = 5"
   ]
  },
  {
   "cell_type": "code",
   "execution_count": 13,
   "id": "4e053d04-83e7-425f-ab65-8cb158a00dd4",
   "metadata": {},
   "outputs": [
    {
     "name": "stdout",
     "output_type": "stream",
     "text": [
      "True\n"
     ]
    }
   ],
   "source": [
    "numbers=[1,2,3,2,1]  ## TWO POINTER APPROACH\n",
    "e=len(numbers)-1\n",
    "for i in range(0,len(numbers)):\n",
    "    s=i\n",
    "    if(numbers[s]==numbers[e]):\n",
    "        palindrome=True\n",
    "        e-=1\n",
    "    else:\n",
    "        palindrome=False\n",
    "        break\n",
    "\n",
    "if(palindrome):\n",
    "    print(\"True\")\n",
    "else:\n",
    "    print(\"False\")"
   ]
  },
  {
   "cell_type": "code",
   "execution_count": 8,
   "id": "fc49b92d-1194-409d-a342-62c1dcaee7ad",
   "metadata": {},
   "outputs": [
    {
     "name": "stdout",
     "output_type": "stream",
     "text": [
      "[1, 2, 3, 4, 5, 6]\n"
     ]
    }
   ],
   "source": [
    "def func(mylist): ## REMOVE DUPLICATE ELEMENTS\n",
    "    newlist=[]\n",
    "    for i in mylist:\n",
    "        if i not in newlist:\n",
    "            newlist.append(i)\n",
    "    mylist[:]=newlist\n",
    "    return mylist\n",
    "numbers=[1,2,3,2,4,5,1,6]\n",
    "print(func(numbers))"
   ]
  },
  {
   "cell_type": "code",
   "execution_count": 16,
   "id": "aeb0e48c-a40a-4069-b552-b0960688a0bc",
   "metadata": {},
   "outputs": [
    {
     "name": "stdout",
     "output_type": "stream",
     "text": [
      "[3, 4, 5]\n"
     ]
    }
   ],
   "source": [
    "list1=[1,2,3,4,5] ##COMMON ELEMENTS\n",
    "list2=[3,4,5,6,7]\n",
    "result=[]\n",
    "for i in list1:\n",
    "    if i in list2:\n",
    "        result.append(i)\n",
    "\n",
    "print(result)"
   ]
  },
  {
   "cell_type": "code",
   "execution_count": 22,
   "id": "385379b1-3e55-4572-a048-0f7dfbfe28b2",
   "metadata": {},
   "outputs": [
    {
     "name": "stdout",
     "output_type": "stream",
     "text": [
      "strawberry\n"
     ]
    }
   ],
   "source": [
    "words= [\"apple\", \"banana\", \"strawberry\", \"kiwi\"] ##LONGEST ELEMENT FIND OUT\n",
    "longest=\"\"\n",
    "for i in range(0,len(words)):\n",
    "    for j in range(i+1,len(words)):\n",
    "        if len(words[i])<len(words[j]):\n",
    "            longest=words[j]\n",
    "\n",
    "print(longest)"
   ]
  },
  {
   "cell_type": "code",
   "execution_count": null,
   "id": "76077bc2-d70a-4d23-90c7-a23166d96ba2",
   "metadata": {},
   "outputs": [],
   "source": []
  }
 ],
 "metadata": {
  "kernelspec": {
   "display_name": "Python 3 (ipykernel)",
   "language": "python",
   "name": "python3"
  },
  "language_info": {
   "codemirror_mode": {
    "name": "ipython",
    "version": 3
   },
   "file_extension": ".py",
   "mimetype": "text/x-python",
   "name": "python",
   "nbconvert_exporter": "python",
   "pygments_lexer": "ipython3",
   "version": "3.12.7"
  }
 },
 "nbformat": 4,
 "nbformat_minor": 5
}
