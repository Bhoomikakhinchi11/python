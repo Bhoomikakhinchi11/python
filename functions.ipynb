{
 "cells": [
  {
   "cell_type": "code",
   "execution_count": 5,
   "id": "5ff72d09-0c5c-4812-9da9-96837e03a61b",
   "metadata": {},
   "outputs": [
    {
     "name": "stdout",
     "output_type": "stream",
     "text": [
      "hey user\n",
      "hello\n"
     ]
    }
   ],
   "source": [
    "def msg(): #USER DEFINED FUNCTION\n",
    "    print(\"hey user\")\n",
    "    print(\"hello\")\n",
    "\n",
    "msg() #CALLING THE FUNCTION"
   ]
  },
  {
   "cell_type": "code",
   "execution_count": 9,
   "id": "e7a99a42-6026-41c5-b494-dba153149887",
   "metadata": {},
   "outputs": [
    {
     "name": "stdout",
     "output_type": "stream",
     "text": [
      "hey bhoomika 19\n"
     ]
    }
   ],
   "source": [
    "def msg():\n",
    "    c=19 ## FUNCTION INSIDE VARIABLE IS CALLED LOCAL VARIABLE // LIFE SCOPE VARIABLE\n",
    "    print(\"hey bhoomika\",c)\n",
    "\n",
    "msg()"
   ]
  },
  {
   "cell_type": "code",
   "execution_count": 13,
   "id": "cba2c555-7180-4a5a-b380-a5f45bf8dada",
   "metadata": {},
   "outputs": [
    {
     "name": "stdout",
     "output_type": "stream",
     "text": [
      "hey bhoomika 19 25\n"
     ]
    }
   ],
   "source": [
    "y=25 ## GLOBAL VARIABLE // GLOBAL SCOPE\n",
    "def msg():\n",
    "    c=19 ## FUNCTION INSIDE VARIABLE IS CALLED LOCAL VARIABLE // LIFE SCOPE VARIABLE\n",
    "    print(\"hey bhoomika\",c,y)\n",
    "\n",
    "msg()"
   ]
  },
  {
   "cell_type": "code",
   "execution_count": 15,
   "id": "eebe1d13-28cf-4e02-a5fe-2dceb2c8c208",
   "metadata": {},
   "outputs": [
    {
     "name": "stdout",
     "output_type": "stream",
     "text": [
      "hey bhoomika 100\n"
     ]
    }
   ],
   "source": [
    "def msg(c): ## PROGRAM INPUT   def msg(c):///THIS CALLED PARAMETER\n",
    "    print(\"hey bhoomika\",c)\n",
    "\n",
    "msg(100) ## ARGUMENT"
   ]
  },
  {
   "cell_type": "code",
   "execution_count": null,
   "id": "80915841-d295-40de-b179-d83cdfcc21d7",
   "metadata": {},
   "outputs": [],
   "source": [
    "def msg(a,b):\n",
    "    print(\"hey bhoomika\",c)\n",
    "\n",
    "msg(100,110) "
   ]
  },
  {
   "cell_type": "code",
   "execution_count": 19,
   "id": "f25f21be-fc32-4656-8ae6-27fb843e4d49",
   "metadata": {},
   "outputs": [
    {
     "name": "stdout",
     "output_type": "stream",
     "text": [
      "hey bhoomika 20 10\n"
     ]
    }
   ],
   "source": [
    "def msg(a,b=10): ## DEFAULT ARGUMENT\n",
    "    print(\"hey bhoomika\",a,b)\n",
    "\n",
    "msg(20) "
   ]
  },
  {
   "cell_type": "code",
   "execution_count": 23,
   "id": "2bb906d7-7c83-4e24-99bf-397e38023dea",
   "metadata": {},
   "outputs": [
    {
     "name": "stdout",
     "output_type": "stream",
     "text": [
      "bhoomika 18\n"
     ]
    }
   ],
   "source": [
    "def msg(name,rollno):\n",
    "    print(name,rollno)\n",
    "\n",
    "msg(name=\"bhoomika\",rollno=18)\n"
   ]
  },
  {
   "cell_type": "code",
   "execution_count": 25,
   "id": "691651af-a501-4730-90b4-a14eb082c2bb",
   "metadata": {},
   "outputs": [
    {
     "name": "stdout",
     "output_type": "stream",
     "text": [
      "hey bhoomika 105 106\n",
      "hey bhoomika 106 105\n"
     ]
    }
   ],
   "source": [
    "def msg(a,b=10): ## POSITIONAL ARGUMENT\n",
    "    print(\"hey bhoomika\",a,b)\n",
    "\n",
    "msg(105,106)\n",
    "msg(106,105)"
   ]
  },
  {
   "cell_type": "code",
   "execution_count": 29,
   "id": "b4d76b92-c217-4053-84ef-a67d02c7cce2",
   "metadata": {},
   "outputs": [
    {
     "name": "stdout",
     "output_type": "stream",
     "text": [
      "even\n"
     ]
    }
   ],
   "source": [
    "def func(a):\n",
    "    if(a%2==0):\n",
    "        print(\"even\")\n",
    "    else:\n",
    "        print(\"odd\")\n",
    "func(56)"
   ]
  },
  {
   "cell_type": "code",
   "execution_count": 43,
   "id": "c8352a28-b05d-4fc1-92f9-5d3bd7e50e93",
   "metadata": {},
   "outputs": [
    {
     "name": "stdout",
     "output_type": "stream",
     "text": [
      "12345\n",
      "2345\n",
      "345\n",
      "45\n",
      "5\n"
     ]
    }
   ],
   "source": [
    "for i in range(1,6):\n",
    "    for j in range(i,6):\n",
    "        print(j,end=\"\")\n",
    "    print(\"\")\n",
    "    "
   ]
  },
  {
   "cell_type": "code",
   "execution_count": 68,
   "id": "bdbadf61-ebed-4f8a-a662-c9d5afa3ed16",
   "metadata": {},
   "outputs": [
    {
     "name": "stdout",
     "output_type": "stream",
     "text": [
      "1234567 \n",
      "234567 \n",
      "34567 \n",
      "4567 \n",
      "567 \n",
      "67 \n",
      "7 \n"
     ]
    }
   ],
   "source": [
    "def pattern(num):\n",
    "    for i in range(1,num+1):\n",
    "        for j in range(i,num+1):\n",
    "            print(j,end=\"\")\n",
    "        print(\" \")\n",
    "\n",
    "pattern(7)"
   ]
  },
  {
   "cell_type": "code",
   "execution_count": 76,
   "id": "7a31f263-d333-4444-9a27-e4f38cbea1df",
   "metadata": {},
   "outputs": [
    {
     "name": "stdout",
     "output_type": "stream",
     "text": [
      "1\n",
      "2\n",
      "4\n",
      "8\n"
     ]
    }
   ],
   "source": [
    "def factors(n):\n",
    "    for i in range(1,n+1):\n",
    "        if(n%i==0):\n",
    "            print(i)\n",
    "factors(8)"
   ]
  },
  {
   "cell_type": "code",
   "execution_count": 112,
   "id": "520fed41-599c-4f82-a9b8-59cfb281f19d",
   "metadata": {},
   "outputs": [
    {
     "name": "stdout",
     "output_type": "stream",
     "text": [
      "less than 10 6\n"
     ]
    }
   ],
   "source": [
    "def length(string):\n",
    "    count=0\n",
    "    for i in string:\n",
    "        count=count+1\n",
    "    if(count<10):\n",
    "        print(\"less than 10\",count)\n",
    "    else:\n",
    "        print(\"more than 10\")\n",
    "length(\"123456\")"
   ]
  },
  {
   "cell_type": "code",
   "execution_count": null,
   "id": "cb4013c8-dc0f-471b-8b46-411fe521e871",
   "metadata": {},
   "outputs": [],
   "source": []
  }
 ],
 "metadata": {
  "kernelspec": {
   "display_name": "Python 3 (ipykernel)",
   "language": "python",
   "name": "python3"
  },
  "language_info": {
   "codemirror_mode": {
    "name": "ipython",
    "version": 3
   },
   "file_extension": ".py",
   "mimetype": "text/x-python",
   "name": "python",
   "nbconvert_exporter": "python",
   "pygments_lexer": "ipython3",
   "version": "3.12.7"
  }
 },
 "nbformat": 4,
 "nbformat_minor": 5
}
