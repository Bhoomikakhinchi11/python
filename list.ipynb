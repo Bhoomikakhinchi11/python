{
 "cells": [
  {
   "cell_type": "code",
   "execution_count": 3,
   "id": "17995800-73fd-46fb-b321-7c2a78c6f115",
   "metadata": {},
   "outputs": [
    {
     "name": "stdout",
     "output_type": "stream",
     "text": [
      "0 1\n",
      "0 2\n",
      "0 4\n",
      "0 7\n",
      "0 14\n",
      "0 28\n",
      "====\n",
      "1 2\n",
      "1 4\n",
      "1 7\n",
      "1 14\n",
      "1 28\n",
      "====\n",
      "2 4\n",
      "2 7\n",
      "2 14\n",
      "2 28\n",
      "====\n",
      "4 7\n",
      "4 14\n",
      "4 28\n",
      "====\n",
      "7 14\n",
      "7 28\n",
      "====\n",
      "14 28\n",
      "====\n",
      "====\n"
     ]
    }
   ],
   "source": [
    "mylist=[0,1,2,4,7,14,28]\n",
    "for index in range(0,len(mylist)):\n",
    "    for j in range(index+1,len(mylist)):\n",
    "        print(mylist[index],mylist[j])\n",
    "    print(\"====\")"
   ]
  },
  {
   "cell_type": "code",
   "execution_count": 5,
   "id": "947fca58-296b-47a8-8dfd-705014e54562",
   "metadata": {},
   "outputs": [
    {
     "name": "stdout",
     "output_type": "stream",
     "text": [
      "2 7\n"
     ]
    }
   ],
   "source": [
    "mylist=[-2,-1,0,1,2,4,7,14,18]\n",
    "target=9\n",
    "start=0\n",
    "stop=len(mylist)-1\n",
    "while(start<stop ):\n",
    "    if(mylist[start]+mylist[stop]==target):\n",
    "        print(mylist[start],mylist[stop])\n",
    "        break\n",
    "    elif(mylist[start]+mylist[stop]>target):\n",
    "        stop=stop-1\n",
    "    else:\n",
    "        start=start+1"
   ]
  },
  {
   "cell_type": "code",
   "execution_count": 7,
   "id": "5eac214a-0477-4b22-8081-d04f0e834c8d",
   "metadata": {},
   "outputs": [
    {
     "name": "stdout",
     "output_type": "stream",
     "text": [
      "invalid\n"
     ]
    }
   ],
   "source": [
    "openB=[] ## VALID PARENTHESIS\n",
    "x=0\n",
    "data=\"(()\"\n",
    "for char in data:\n",
    "    if char==\"(\":\n",
    "        openB.append(char)\n",
    "    elif(openB):\n",
    "        if(char==\")\" and \"(\"==openB.pop()):\n",
    "            x=1\n",
    "            x=1\n",
    "        else:\n",
    "            x=0\n",
    "if(x==0 or len(openB)>0):\n",
    "    print(\"invalid\")\n",
    "else:\n",
    "    print(\"valid parenthesis\")"
   ]
  },
  {
   "cell_type": "code",
   "execution_count": null,
   "id": "5bf445ba-871c-47f5-92ea-bbfdf4d27fd7",
   "metadata": {},
   "outputs": [],
   "source": []
  }
 ],
 "metadata": {
  "kernelspec": {
   "display_name": "Python 3 (ipykernel)",
   "language": "python",
   "name": "python3"
  },
  "language_info": {
   "codemirror_mode": {
    "name": "ipython",
    "version": 3
   },
   "file_extension": ".py",
   "mimetype": "text/x-python",
   "name": "python",
   "nbconvert_exporter": "python",
   "pygments_lexer": "ipython3",
   "version": "3.12.7"
  }
 },
 "nbformat": 4,
 "nbformat_minor": 5
}
