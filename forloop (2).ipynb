{
 "cells": [
  {
   "cell_type": "code",
   "execution_count": 1,
   "id": "48d720a1-8a6c-4349-9ae1-b106de83cf87",
   "metadata": {},
   "outputs": [
    {
     "name": "stdin",
     "output_type": "stream",
     "text": [
      "enter the number 6\n"
     ]
    },
    {
     "name": "stdout",
     "output_type": "stream",
     "text": [
      "1\n",
      "2\n",
      "3\n",
      "4\n",
      "5\n",
      "6\n"
     ]
    }
   ],
   "source": [
    "n=int(input(\"enter the number\"))\n",
    "i=1\n",
    "while(i<=n):\n",
    "    print(i)\n",
    "    i=i+1"
   ]
  },
  {
   "cell_type": "code",
   "execution_count": 5,
   "id": "aefd8ffd-ef6c-4aee-b80d-b76e84504658",
   "metadata": {},
   "outputs": [
    {
     "name": "stdin",
     "output_type": "stream",
     "text": [
      "enter the number 5\n"
     ]
    },
    {
     "name": "stdout",
     "output_type": "stream",
     "text": [
      "5\n",
      "4\n",
      "3\n",
      "2\n",
      "1\n"
     ]
    }
   ],
   "source": [
    "n=int(input(\"enter the number\"))\n",
    "i=n\n",
    "while(n>0):\n",
    "    print(n)\n",
    "    n=n-1\n",
    "    "
   ]
  },
  {
   "cell_type": "code",
   "execution_count": null,
   "id": "cf01c493-99cb-405d-8f4d-53c1bf6b0457",
   "metadata": {},
   "outputs": [],
   "source": [
    "i=97\n",
    "while(i<=122):\n",
    "    print(chr(i))\n",
    "    i=i+1"
   ]
  },
  {
   "cell_type": "code",
   "execution_count": 5,
   "id": "f0ba6a8a-5526-4da4-82af-b60e49be8d72",
   "metadata": {},
   "outputs": [
    {
     "name": "stdout",
     "output_type": "stream",
     "text": [
      "1\n",
      "2\n",
      "4\n"
     ]
    }
   ],
   "source": [
    "num=8\n",
    "for i in range(1,8):\n",
    "    if(num%i==0):\n",
    "        print(i)"
   ]
  },
  {
   "cell_type": "code",
   "execution_count": 5,
   "id": "d7de3b83-b2e6-4efe-a506-387f3b8d9d79",
   "metadata": {},
   "outputs": [
    {
     "name": "stdout",
     "output_type": "stream",
     "text": [
      "1\n",
      "2\n",
      "4\n"
     ]
    }
   ],
   "source": [
    "num=8\n",
    "i=1\n",
    "while(i<8):\n",
    "    if(num%i==0):\n",
    "        print(i)\n",
    "    i=i+1"
   ]
  },
  {
   "cell_type": "code",
   "execution_count": 7,
   "id": "2f93bc0d-5645-4601-aab4-aa0905d0e79c",
   "metadata": {},
   "outputs": [
    {
     "name": "stdout",
     "output_type": "stream",
     "text": [
      "1\n",
      "2\n",
      "5\n",
      "10\n"
     ]
    }
   ],
   "source": [
    "num=10 ##FACTOR\n",
    "for i in range(1,11):\n",
    "    if(num%i==0):\n",
    "        print(i)\n",
    "        "
   ]
  },
  {
   "cell_type": "code",
   "execution_count": 3,
   "id": "de406836-69c1-4bc9-ab0f-ea0b6aee9b49",
   "metadata": {},
   "outputs": [
    {
     "name": "stdout",
     "output_type": "stream",
     "text": [
      "1\n",
      "2\n",
      "5\n"
     ]
    }
   ],
   "source": [
    "num=10\n",
    "i=1\n",
    "while(i<10):\n",
    "    if(num%i==0):\n",
    "        print(i)\n",
    "    i=i+1"
   ]
  },
  {
   "cell_type": "code",
   "execution_count": 25,
   "id": "348a3a12-6e39-42d4-8e76-ae9cad665f62",
   "metadata": {},
   "outputs": [
    {
     "name": "stdout",
     "output_type": "stream",
     "text": [
      "prime number 5\n"
     ]
    }
   ],
   "source": [
    "num=5 ##PRIME NUMBER\n",
    "sem=0\n",
    "for i in range(2,num):\n",
    "    if(num%i==0):\n",
    "        print(\"not a prime number\",num)\n",
    "        sem=1\n",
    "        break\n",
    "if(sem==0):\n",
    "    print(\"prime number\",num)"
   ]
  },
  {
   "cell_type": "code",
   "execution_count": 9,
   "id": "69ca1446-ee36-4092-88f6-4b5a71655991",
   "metadata": {},
   "outputs": [
    {
     "name": "stdout",
     "output_type": "stream",
     "text": [
      "5\n"
     ]
    }
   ],
   "source": [
    "for x in range(1,5):\n",
    "    print(i)\n",
    "    break"
   ]
  },
  {
   "cell_type": "code",
   "execution_count": 21,
   "id": "e4ddb337-c1c4-46b4-b2c9-5ef47f82349f",
   "metadata": {},
   "outputs": [
    {
     "name": "stdout",
     "output_type": "stream",
     "text": [
      "hello 1\n",
      "hello 2\n",
      "hello 3\n",
      "hello 4\n",
      "hello 5\n",
      "hello 6\n",
      "hello 7\n",
      "hello 8\n",
      "hello 9\n",
      "hello 10\n",
      "hello 11\n",
      "hello 12\n",
      "hello 13\n",
      "outside statement=> 1\n"
     ]
    }
   ],
   "source": [
    "sem=0\n",
    "for x in range(1,15):\n",
    "    if(x==14):\n",
    "        sem=1\n",
    "        break\n",
    "    print(\"hello\",x)\n",
    "print(\"outside statement=>\",sem)"
   ]
  },
  {
   "cell_type": "code",
   "execution_count": 36,
   "id": "a18a3292-9645-41c2-aa16-a0cd7713345f",
   "metadata": {},
   "outputs": [
    {
     "name": "stdout",
     "output_type": "stream",
     "text": [
      "2\n"
     ]
    }
   ],
   "source": [
    "##run a for loop 2 to 10 and you to check the smallest number which is dividing 27\n",
    "for i in range(2,11):\n",
    "    if(40%i==0):\n",
    "        print(i)\n",
    "        break\n",
    "    "
   ]
  },
  {
   "cell_type": "code",
   "execution_count": 4,
   "id": "d1fe5d6f-f598-4cdb-a45a-3e26f523635f",
   "metadata": {},
   "outputs": [
    {
     "name": "stdout",
     "output_type": "stream",
     "text": [
      "18\n"
     ]
    }
   ],
   "source": [
    "##take a number 40\n",
    "# all factors are sum\n",
    "# 2,4,5,8,10\n",
    "num=10 ##FACTOR\n",
    "sum=0\n",
    "for i in range(1,11):\n",
    "    if(num%i==0):\n",
    "        sum=sum+i\n",
    "print(sum)\n",
    "        "
   ]
  },
  {
   "cell_type": "code",
   "execution_count": null,
   "id": "8f697048-7c15-47a9-9322-adcc21afd246",
   "metadata": {},
   "outputs": [],
   "source": []
  },
  {
   "cell_type": "code",
   "execution_count": null,
   "id": "07318265-4c71-420a-8da5-6620ce683f24",
   "metadata": {},
   "outputs": [],
   "source": []
  }
 ],
 "metadata": {
  "kernelspec": {
   "display_name": "Python 3 (ipykernel)",
   "language": "python",
   "name": "python3"
  },
  "language_info": {
   "codemirror_mode": {
    "name": "ipython",
    "version": 3
   },
   "file_extension": ".py",
   "mimetype": "text/x-python",
   "name": "python",
   "nbconvert_exporter": "python",
   "pygments_lexer": "ipython3",
   "version": "3.12.7"
  }
 },
 "nbformat": 4,
 "nbformat_minor": 5
}
