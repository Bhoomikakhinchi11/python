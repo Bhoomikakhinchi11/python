{
 "cells": [
  {
   "cell_type": "code",
   "execution_count": 1,
   "id": "8088655d-77ae-4a6b-80c9-caead75c3506",
   "metadata": {},
   "outputs": [
    {
     "name": "stdout",
     "output_type": "stream",
     "text": [
      "[(1, 1), (1, 2), (1, 3), (1, 4), (2, 1), (2, 2), (2, 3), (2, 4), (3, 1), (3, 2), (3, 3), (3, 4)]\n"
     ]
    }
   ],
   "source": [
    "list1=[4,9]\n",
    "mydict=[(i,j) for i in range(1,4) for j in range(1,5)]\n",
    "print(mydict)"
   ]
  },
  {
   "cell_type": "code",
   "execution_count": 3,
   "id": "783b44f4-864e-496c-8c8d-3a70e2a280ef",
   "metadata": {},
   "outputs": [
    {
     "data": {
      "text/plain": [
       "{4, 9, 16, 25, 36}"
      ]
     },
     "execution_count": 3,
     "metadata": {},
     "output_type": "execute_result"
    }
   ],
   "source": [
    "list1={4,9,16,25,36,4} ## SET COMPREHENSION\n",
    "{i for i in list1}"
   ]
  },
  {
   "cell_type": "code",
   "execution_count": 5,
   "id": "3d6af4aa-f169-4336-8d8e-1f0d91638eb2",
   "metadata": {},
   "outputs": [
    {
     "data": {
      "text/plain": [
       "[4, 9, 16, 25, 36]"
      ]
     },
     "execution_count": 5,
     "metadata": {},
     "output_type": "execute_result"
    }
   ],
   "source": [
    "[x**2 for x in range(2,7)] ## LIST COMPREHENSION"
   ]
  },
  {
   "cell_type": "code",
   "execution_count": 7,
   "id": "13247ab5-1100-4fa7-963f-8dd4742d5b30",
   "metadata": {},
   "outputs": [
    {
     "name": "stdout",
     "output_type": "stream",
     "text": [
      "{4: 1, 9: 1, 16: 1, 25: 1, 36: 1}\n"
     ]
    }
   ],
   "source": [
    "list1=[4,9,16,25,36]  ## DICTIONARY COMPREHENSION\n",
    "mydict={i:1 for i in list1}\n",
    "print(mydict)"
   ]
  },
  {
   "cell_type": "code",
   "execution_count": 9,
   "id": "dcc8507e-ec56-483a-8bd1-5150d64d894b",
   "metadata": {},
   "outputs": [
    {
     "name": "stdout",
     "output_type": "stream",
     "text": [
      "{'hey', 40, 10, 50, 20, 60, 30}\n",
      "commom value {40, 30}\n"
     ]
    }
   ],
   "source": [
    "myset1={10,20,30,40}\n",
    "myset2={30,40,50,60,\"hey\"}\n",
    "print(myset1.union(myset2))\n",
    "print(\"commom value\",myset1.intersection(myset2))"
   ]
  },
  {
   "cell_type": "code",
   "execution_count": null,
   "id": "9fa35851-a968-4347-8506-184ccc163737",
   "metadata": {},
   "outputs": [],
   "source": []
  }
 ],
 "metadata": {
  "kernelspec": {
   "display_name": "Python 3 (ipykernel)",
   "language": "python",
   "name": "python3"
  },
  "language_info": {
   "codemirror_mode": {
    "name": "ipython",
    "version": 3
   },
   "file_extension": ".py",
   "mimetype": "text/x-python",
   "name": "python",
   "nbconvert_exporter": "python",
   "pygments_lexer": "ipython3",
   "version": "3.12.7"
  }
 },
 "nbformat": 4,
 "nbformat_minor": 5
}
