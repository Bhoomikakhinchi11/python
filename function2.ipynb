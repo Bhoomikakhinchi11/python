{
 "cells": [
  {
   "cell_type": "code",
   "execution_count": 1,
   "id": "0bf6f29d-f70e-4742-9e48-2e2135a4dde1",
   "metadata": {},
   "outputs": [
    {
     "name": "stdout",
     "output_type": "stream",
     "text": [
      "hello bhoomika\n"
     ]
    }
   ],
   "source": [
    "def outer_fun():\n",
    "    print(\"hello bhoomika\")\n",
    "\n",
    "x=outer_fun ## FIRST CLASS FUNCTION\n",
    "outer_fun()"
   ]
  },
  {
   "cell_type": "code",
   "execution_count": 5,
   "id": "4700e04f-d3a7-4e02-a276-16a24462c4a3",
   "metadata": {},
   "outputs": [
    {
     "name": "stdout",
     "output_type": "stream",
     "text": [
      "hello bhoomika\n",
      "this is test function x=> None\n"
     ]
    }
   ],
   "source": [
    "def outer_fun():\n",
    "    print(\"hello bhoomika\")\n",
    "\n",
    "def test(x):\n",
    "    print(\"this is test function x=>\",x)\n",
    "\n",
    "test(outer_fun())\n"
   ]
  },
  {
   "cell_type": "code",
   "execution_count": 17,
   "id": "914b85ba-ee45-40f6-9276-e6b6a2f7e437",
   "metadata": {},
   "outputs": [
    {
     "name": "stdout",
     "output_type": "stream",
     "text": [
      "hello bhoomika\n",
      "this is test function x=> None\n"
     ]
    }
   ],
   "source": [
    "def outer_fun():\n",
    "    print(\"hello bhoomika\")\n",
    "\n",
    "def test(x):\n",
    "    print(\"this is test function x=>\",x)\n",
    "\n",
    "test(x())"
   ]
  },
  {
   "cell_type": "code",
   "execution_count": 13,
   "id": "9d3dc5dd-03b9-4053-82ba-a4ea8d823d5c",
   "metadata": {},
   "outputs": [
    {
     "name": "stdout",
     "output_type": "stream",
     "text": [
      "this is test function x=> hello bhoomika\n"
     ]
    }
   ],
   "source": [
    "def outer_fun():\n",
    "    return(\"hello bhoomika\")\n",
    "\n",
    "def test(x):\n",
    "    print(\"this is test function x=>\",x)\n",
    "\n",
    "test(outer_fun())"
   ]
  },
  {
   "cell_type": "code",
   "execution_count": 21,
   "id": "fb9028a0-4b1d-44a6-b9af-8200b8f1cac5",
   "metadata": {},
   "outputs": [
    {
     "name": "stdout",
     "output_type": "stream",
     "text": [
      "this is test function x=> <function outer_fun at 0x000002DD06B52A20>\n",
      "calling x=> hey this is function outer\n"
     ]
    }
   ],
   "source": [
    "def outer_fun():  ## FIRST CLASS FUNCTION /// HIGH ORDER FUNCTION\n",
    "    return(\"hey this is function outer\")\n",
    "\n",
    "def test(x):\n",
    "    print(\"this is test function x=>\",x)\n",
    "    print(\"calling x=>\",x())\n",
    "\n",
    "test(outer_fun)"
   ]
  },
  {
   "cell_type": "code",
   "execution_count": 49,
   "id": "60befa89-d161-466c-9edc-2af4135c2d30",
   "metadata": {},
   "outputs": [
    {
     "data": {
      "text/plain": [
       "'odd'"
      ]
     },
     "execution_count": 49,
     "metadata": {},
     "output_type": "execute_result"
    }
   ],
   "source": [
    "def fun(num):\n",
    "    if(num%2==0):\n",
    "        return(\"even\")\n",
    "    else:\n",
    "        return(\"odd\")\n",
    "\n",
    "fun(29)"
   ]
  },
  {
   "cell_type": "code",
   "execution_count": 63,
   "id": "1c026802-f0d2-4f99-8b27-37b595af6884",
   "metadata": {},
   "outputs": [
    {
     "name": "stdout",
     "output_type": "stream",
     "text": [
      "Lcm is greater 12\n"
     ]
    }
   ],
   "source": [
    "def lcm_check(x,y):\n",
    "    if(x>y):\n",
    "        greater=x\n",
    "    else:\n",
    "        greater=y\n",
    "    \n",
    "    while(True):\n",
    "        if(greater%x==0 and greater%y==0):\n",
    "            print(\"Lcm is greater\",greater)\n",
    "            break\n",
    "        else:\n",
    "            greater+=1\n",
    "\n",
    "lcm_check(6,4)"
   ]
  },
  {
   "cell_type": "code",
   "execution_count": 2,
   "id": "043d1b8d-2f99-473c-994f-ddf71cb0f181",
   "metadata": {},
   "outputs": [
    {
     "data": {
      "text/plain": [
       "12"
      ]
     },
     "execution_count": 2,
     "metadata": {},
     "output_type": "execute_result"
    }
   ],
   "source": [
    "def lcm_check(x,y):\n",
    "    if(x>y):\n",
    "        greater=x\n",
    "    else:\n",
    "        greater=y\n",
    "    \n",
    "    while(True):\n",
    "        if(greater%x==0 and greater%y==0):\n",
    "            return greater\n",
    "        else:\n",
    "            greater+=1\n",
    "\n",
    "lcm_check(lcm_check(2,3),4)"
   ]
  },
  {
   "cell_type": "code",
   "execution_count": 91,
   "id": "0b75b3d1-2cc3-4787-b084-e380391c4746",
   "metadata": {},
   "outputs": [
    {
     "name": "stdout",
     "output_type": "stream",
     "text": [
      "{'x': <function abc at 0x000002DD090C3420>, 'y': <function abc at 0x000002DD090C3420>, 'z': <function abc at 0x000002DD090C3420>}\n"
     ]
    }
   ],
   "source": [
    "def abc():\n",
    "    print(\"hello function\")\n",
    "\n",
    "mydict={\"x\":abc,\"y\":abc,\"z\":abc}\n",
    "print(mydict)"
   ]
  },
  {
   "cell_type": "code",
   "execution_count": 111,
   "id": "93f0673e-9f9e-45c0-abee-d6c0a81f90aa",
   "metadata": {},
   "outputs": [
    {
     "name": "stdout",
     "output_type": "stream",
     "text": [
      "6\n"
     ]
    }
   ],
   "source": [
    "mydict={10:lcm_check}\n",
    "print(mydict[10](2,3))  #lcm_check(2,3)"
   ]
  },
  {
   "cell_type": "code",
   "execution_count": 5,
   "id": "3edb2989-0545-45e9-9b2e-4affb897cb44",
   "metadata": {},
   "outputs": [
    {
     "ename": "NameError",
     "evalue": "name 'x' is not defined",
     "output_type": "error",
     "traceback": [
      "\u001b[31m---------------------------------------------------------------------------\u001b[39m",
      "\u001b[31mNameError\u001b[39m                                 Traceback (most recent call last)",
      "\u001b[36mCell\u001b[39m\u001b[36m \u001b[39m\u001b[32mIn[5]\u001b[39m\u001b[32m, line 1\u001b[39m\n\u001b[32m----> \u001b[39m\u001b[32m1\u001b[39m search={\u001b[43mx\u001b[49m:\u001b[33m\"\u001b[39m\u001b[33m40\u001b[39m\u001b[33m\"\u001b[39m,y:\u001b[33m\"\u001b[39m\u001b[33m50\u001b[39m\u001b[33m\"\u001b[39m,z:\u001b[33m\"\u001b[39m\u001b[33m60\u001b[39m\u001b[33m\"\u001b[39m}\n\u001b[32m      2\u001b[39m n=\u001b[38;5;28mint\u001b[39m(\u001b[38;5;28minput\u001b[39m(\u001b[33m\"\u001b[39m\u001b[33menter the number\u001b[39m\u001b[33m\"\u001b[39m))\n\u001b[32m      3\u001b[39m \u001b[38;5;28;01mif\u001b[39;00m x \u001b[38;5;129;01min\u001b[39;00m search:\n",
      "\u001b[31mNameError\u001b[39m: name 'x' is not defined"
     ]
    }
   ],
   "source": [
    "mydict={\"x\":40,\"y\":50,z:60}\n",
    "n=int(input(\"enter the number\"))\n",
    "if x in search:\n",
    "    print(\"true\")\n",
    "else:\n",
    "    print(\"false\")\n"
   ]
  },
  {
   "cell_type": "code",
   "execution_count": null,
   "id": "da6c0256-5d3c-4db6-9beb-a6175146378e",
   "metadata": {},
   "outputs": [],
   "source": []
  }
 ],
 "metadata": {
  "kernelspec": {
   "display_name": "Python 3 (ipykernel)",
   "language": "python",
   "name": "python3"
  },
  "language_info": {
   "codemirror_mode": {
    "name": "ipython",
    "version": 3
   },
   "file_extension": ".py",
   "mimetype": "text/x-python",
   "name": "python",
   "nbconvert_exporter": "python",
   "pygments_lexer": "ipython3",
   "version": "3.12.7"
  }
 },
 "nbformat": 4,
 "nbformat_minor": 5
}
