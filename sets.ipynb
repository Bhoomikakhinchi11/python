{
 "cells": [
  {
   "cell_type": "code",
   "execution_count": 1,
   "id": "dd8a7516-b4ca-43a5-9f5a-f0be68e3491b",
   "metadata": {},
   "outputs": [
    {
     "name": "stdout",
     "output_type": "stream",
     "text": [
      "{50, 60, 'hey'}\n"
     ]
    }
   ],
   "source": [
    "myset1={10,20,30,40}\n",
    "myset2={30,40,50,60,\"hey\"}\n",
    "print(myset2.difference(myset1))"
   ]
  },
  {
   "cell_type": "code",
   "execution_count": 5,
   "id": "6c70bca1-4b13-4fd5-840f-c9cb3d50b670",
   "metadata": {},
   "outputs": [
    {
     "name": "stdout",
     "output_type": "stream",
     "text": [
      "{10, 20}\n"
     ]
    }
   ],
   "source": [
    "myset1={10,20,30,40}\n",
    "myset2={30,40,50,60,\"hey\"}\n",
    "print(myset1.difference(myset2))"
   ]
  },
  {
   "cell_type": "code",
   "execution_count": 15,
   "id": "60678f93-0fe4-4eb5-9512-d365b6dfac0c",
   "metadata": {},
   "outputs": [
    {
     "name": "stdout",
     "output_type": "stream",
     "text": [
      "{11, 'o', 'bhoomika', 30, 40, 'h', 'c', 'u', 't'}\n"
     ]
    }
   ],
   "source": [
    "myset={10,11,20,30,40,10,10}\n",
    "myset.add(\"bhoomika\")\n",
    "myset.update(\"chotu\") ## INSERT EACH CHARACTER\n",
    "myset.pop() ## DELETE ANY ELEMENT\n",
    "myset.remove(20) ## INDIVIDUAL ELEMENT CAN DELETE\n",
    "print(myset)"
   ]
  },
  {
   "cell_type": "code",
   "execution_count": 17,
   "id": "500b4b1a-c079-4b95-bdbd-434a21a64b22",
   "metadata": {},
   "outputs": [
    {
     "name": "stdout",
     "output_type": "stream",
     "text": [
      "{40, 10, 'hey', 50, 20, 60, 30}\n",
      "common value {40, 30}\n"
     ]
    }
   ],
   "source": [
    "myset1={10,20,30,40}\n",
    "myset2={30,40,50,60,\"hey\"}\n",
    "print(myset1.union(myset2))\n",
    "print(\"common value\",myset1.intersection(myset2))"
   ]
  },
  {
   "cell_type": "code",
   "execution_count": null,
   "id": "50b75bf3-b4c8-4cb9-965f-78014852da01",
   "metadata": {},
   "outputs": [],
   "source": []
  }
 ],
 "metadata": {
  "kernelspec": {
   "display_name": "Python 3 (ipykernel)",
   "language": "python",
   "name": "python3"
  },
  "language_info": {
   "codemirror_mode": {
    "name": "ipython",
    "version": 3
   },
   "file_extension": ".py",
   "mimetype": "text/x-python",
   "name": "python",
   "nbconvert_exporter": "python",
   "pygments_lexer": "ipython3",
   "version": "3.12.7"
  }
 },
 "nbformat": 4,
 "nbformat_minor": 5
}
