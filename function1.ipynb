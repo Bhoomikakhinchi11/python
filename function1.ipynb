{
 "cells": [
  {
   "cell_type": "code",
   "execution_count": 1,
   "id": "881e9739-19bf-4a51-887e-d27965b7bd0c",
   "metadata": {},
   "outputs": [
    {
     "name": "stdout",
     "output_type": "stream",
     "text": [
      "hey 19 20\n"
     ]
    }
   ],
   "source": [
    "def fun(x,y):\n",
    "    print(\"hey\",x,y)\n",
    "\n",
    "#POSITIONAL ARGUMENT\n",
    "fun(19,20)"
   ]
  },
  {
   "cell_type": "code",
   "execution_count": 7,
   "id": "a5e88c2f-7429-400f-8cbc-0101a5ea918b",
   "metadata": {},
   "outputs": [
    {
     "name": "stdout",
     "output_type": "stream",
     "text": [
      "hello 11 7\n"
     ]
    }
   ],
   "source": [
    "def fun(b,d):\n",
    "    print(\"hello\",b,d)\n",
    "\n",
    "#KEYWORD ARGUMENT\n",
    "fun(b=11,d=7)"
   ]
  },
  {
   "cell_type": "code",
   "execution_count": 11,
   "id": "ed5be090-7b06-4970-8f2d-df1413666dda",
   "metadata": {},
   "outputs": [
    {
     "name": "stdout",
     "output_type": "stream",
     "text": [
      "hello 45 65\n"
     ]
    }
   ],
   "source": [
    "def fun(x,y=65):\n",
    "    print(\"hello\",x,y)\n",
    "\n",
    "#DEFOULT ARGUMENT\n",
    "fun(x=45)"
   ]
  },
  {
   "cell_type": "code",
   "execution_count": 13,
   "id": "664ab6cd-dfad-4702-b266-5bdf96f89ec0",
   "metadata": {},
   "outputs": [
    {
     "name": "stdout",
     "output_type": "stream",
     "text": [
      "()\n",
      "(23, 3, 56, 8, 8)\n",
      "(56, 78, 90, 6)\n"
     ]
    }
   ],
   "source": [
    "def fun(*x):\n",
    "    print(x) ## tuple values are accepted\n",
    "\n",
    "#VARIABLE LENGTH ARGUMENT\n",
    "fun()\n",
    "fun(23,3,56,8,8)\n",
    "fun(56,78,90,6)"
   ]
  },
  {
   "cell_type": "code",
   "execution_count": 15,
   "id": "d95ebbda-2a64-48d8-a8cb-858e4e1de619",
   "metadata": {},
   "outputs": [
    {
     "name": "stdout",
     "output_type": "stream",
     "text": [
      "{}\n",
      "{'x': 34, 'y': 54}\n",
      "{'x': 67, 'y': 31, 'z': 98}\n"
     ]
    }
   ],
   "source": [
    "def fun(**x):\n",
    "    print(x) \n",
    "\n",
    "# dictionary format\n",
    "#KEYWORD VARIABLE LENGTH ARGUMENT\n",
    "fun()\n",
    "fun(x=34,y=54) # parameter are declared of keyword variable length argument\n",
    "fun(x=67,y=31,z=98)"
   ]
  },
  {
   "cell_type": "code",
   "execution_count": 24,
   "id": "0d1f3ac0-c0bf-430c-b5ca-b1d2d447114a",
   "metadata": {},
   "outputs": [
    {
     "name": "stdout",
     "output_type": "stream",
     "text": [
      "<function fun at 0x000001D742DD28E0> <function fun at 0x000001D742DD28E0>\n"
     ]
    }
   ],
   "source": [
    "def fun():\n",
    "    print(\"hello bhoomika\")\n",
    "\n",
    "out=fun ## memory address save \n",
    "print(fun,out)"
   ]
  },
  {
   "cell_type": "code",
   "execution_count": 26,
   "id": "1e1df4e4-27a6-46ae-bb57-e5ad513476e0",
   "metadata": {},
   "outputs": [
    {
     "name": "stdout",
     "output_type": "stream",
     "text": [
      "20 140730683829272\n",
      "hello bhoomika 20 140730683829272\n"
     ]
    }
   ],
   "source": [
    "def fun(x):\n",
    "    print(\"hello bhoomika\",x,id(x))\n",
    "\n",
    "a=20  ## this is called by object reference value\n",
    "print(a,id(a))\n",
    "fun(a)"
   ]
  },
  {
   "cell_type": "code",
   "execution_count": 28,
   "id": "6cfdfa7e-aab6-4965-8e12-24e7c6008016",
   "metadata": {},
   "outputs": [
    {
     "name": "stdout",
     "output_type": "stream",
     "text": [
      "20 140730683829272\n",
      "hello bhoomika 20 140730683829272\n",
      "inside function 50 140730683830232\n"
     ]
    }
   ],
   "source": [
    "def fun(x):\n",
    "    print(\"hello bhoomika\",x,id(x))\n",
    "    x=50\n",
    "    print(\"inside function\",x,id(x))\n",
    "a=20\n",
    "print(a,id(a))\n",
    "fun(a)"
   ]
  },
  {
   "cell_type": "code",
   "execution_count": 30,
   "id": "b7455a2f-dbab-4dd2-8da8-2e6b0a13f72e",
   "metadata": {},
   "outputs": [
    {
     "name": "stdout",
     "output_type": "stream",
     "text": [
      "before function=>a 140730683829272\n",
      "hello bhoomika 20 140730683829272\n",
      "inside function 50 140730683830232\n",
      "after function=>a 140730683829272\n"
     ]
    }
   ],
   "source": [
    "def fun(x):\n",
    "    print(\"hello bhoomika\",x,id(x))\n",
    "    x=50  ## LOCAL VARIABLE \n",
    "          ## IMMUTABLE DATA TYPE   \n",
    "    print(\"inside function\",x,id(x))\n",
    "\n",
    "a=20  ## GLOBAL VARIABLE\n",
    "print(\"before function=>a\",id(a))\n",
    "fun(a)\n",
    "print(\"after function=>a\",id(a))"
   ]
  },
  {
   "cell_type": "code",
   "execution_count": 44,
   "id": "81f77b85-16fd-4b65-8f86-5883509c0898",
   "metadata": {},
   "outputs": [
    {
     "name": "stdout",
     "output_type": "stream",
     "text": [
      "before function=>x 2024097254784\n",
      "hello bhoomika [10, 20] 2024097254784\n",
      "inside function [10, 20, 30] 2024097254784\n",
      "after function=>x 2024097254784\n"
     ]
    }
   ],
   "source": [
    "def fun(y):\n",
    "    print(\"hello bhoomika\",y,id(y))\n",
    "    y.append(30)\n",
    "    print(\"inside function\",y,id(y))\n",
    "\n",
    "x=[10,20]  ## GLOBAL VARIABLE\n",
    "print(\"before function=>x\",id(x))\n",
    "fun(x)\n",
    "print(\"after function=>x\",id(x))"
   ]
  },
  {
   "cell_type": "code",
   "execution_count": null,
   "id": "0d464b3a-0e0b-4160-b895-25d77c88cfe6",
   "metadata": {},
   "outputs": [],
   "source": [
    "## return keyword \n",
    "## to take the exit from the function\n",
    "## return will revert back with the value =function call"
   ]
  },
  {
   "cell_type": "code",
   "execution_count": 50,
   "id": "5e9a7eba-e429-4b4f-9cb1-0ae98e60dee0",
   "metadata": {},
   "outputs": [
    {
     "name": "stdout",
     "output_type": "stream",
     "text": [
      "40\n",
      "out value 20\n"
     ]
    }
   ],
   "source": [
    "def fun(c,d):\n",
    "    print(c+d)\n",
    "    return 20  ## RETUEN KEYWORD=>>FUNCTIONS VALUE HELP \n",
    "\n",
    "out=fun(19,21)\n",
    "print(\"out value\",out)"
   ]
  },
  {
   "cell_type": "code",
   "execution_count": 58,
   "id": "e5adfe70-834c-46db-8f80-f18293391896",
   "metadata": {},
   "outputs": [
    {
     "name": "stdout",
     "output_type": "stream",
     "text": [
      "100\n",
      "200\n"
     ]
    }
   ],
   "source": [
    "def shadi(lifafa):\n",
    "    print(lifafa)\n",
    "    return lifafa+100\n",
    "\n",
    "x=shadi(100)\n",
    "print(x)"
   ]
  },
  {
   "cell_type": "code",
   "execution_count": 64,
   "id": "f5be99c8-d376-4218-adf7-2f60064cb5bf",
   "metadata": {},
   "outputs": [
    {
     "name": "stdout",
     "output_type": "stream",
     "text": [
      "700\n"
     ]
    }
   ],
   "source": [
    "def shadi(lifafa):\n",
    "    return lifafa+100\n",
    "\n",
    "x=shadi(100)\n",
    "print(x)"
   ]
  },
  {
   "cell_type": "code",
   "execution_count": 70,
   "id": "c1b55f56-2a74-48db-bfc3-d6d216645ba9",
   "metadata": {},
   "outputs": [
    {
     "name": "stdout",
     "output_type": "stream",
     "text": [
      "30\n"
     ]
    }
   ],
   "source": [
    "def add(x,y):\n",
    "    return x+y\n",
    "\n",
    "print(add(10,20))"
   ]
  },
  {
   "cell_type": "code",
   "execution_count": null,
   "id": "2a37b84c-6042-40a7-b249-b266b94076f0",
   "metadata": {},
   "outputs": [],
   "source": []
  }
 ],
 "metadata": {
  "kernelspec": {
   "display_name": "Python 3 (ipykernel)",
   "language": "python",
   "name": "python3"
  },
  "language_info": {
   "codemirror_mode": {
    "name": "ipython",
    "version": 3
   },
   "file_extension": ".py",
   "mimetype": "text/x-python",
   "name": "python",
   "nbconvert_exporter": "python",
   "pygments_lexer": "ipython3",
   "version": "3.12.7"
  }
 },
 "nbformat": 4,
 "nbformat_minor": 5
}
